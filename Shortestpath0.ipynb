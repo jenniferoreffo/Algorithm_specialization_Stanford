{
  "nbformat": 4,
  "nbformat_minor": 0,
  "metadata": {
    "colab": {
      "provenance": [],
      "authorship_tag": "ABX9TyP0fbrizCFfzHkskW++84jl",
      "include_colab_link": true
    },
    "kernelspec": {
      "name": "python3",
      "display_name": "Python 3"
    },
    "language_info": {
      "name": "python"
    }
  },
  "cells": [
    {
      "cell_type": "markdown",
      "metadata": {
        "id": "view-in-github",
        "colab_type": "text"
      },
      "source": [
        "<a href=\"https://colab.research.google.com/github/jenniferoreffo/Algorithm_specialization_Stanford/blob/main/Shortestpath0.ipynb\" target=\"_parent\"><img src=\"https://colab.research.google.com/assets/colab-badge.svg\" alt=\"Open In Colab\"/></a>"
      ]
    },
    {
      "cell_type": "code",
      "execution_count": null,
      "metadata": {
        "id": "hrxfK2ct4Aus"
      },
      "outputs": [],
      "source": [
        "\n",
        "import sys\n",
        "\n",
        "def read_graph(file_path):\n",
        "    with open(file_path, 'r') as file:\n",
        "        lines = file.readlines()\n",
        "\n",
        "    num_vertices, num_edges = map(int, lines[0].split())\n",
        "    edges = []\n",
        "\n",
        "    for line in lines[1:]:\n",
        "        tail, head, length = map(int, line.split())\n",
        "        edges.append((tail, head, length))\n",
        "\n",
        "    return num_vertices, num_edges, edges\n",
        "\n",
        "def floyd_warshall(num_vertices, edges):\n",
        "    dist = [[float('inf')]*num_vertices for _ in range(num_vertices)]\n",
        "\n",
        "    for i in range(num_vertices):\n",
        "        dist[i][i] = 0\n",
        "\n",
        "    for tail, head, length in edges:\n",
        "        dist[tail-1][head-1] = min(dist[tail-1][head-1], length)\n",
        "\n",
        "    for k in range(num_vertices):\n",
        "        for i in range(num_vertices):\n",
        "            for j in range(num_vertices):\n",
        "                if dist[i][k] != float('inf') and dist[k][j] != float('inf'):\n",
        "                    dist[i][j] = min(dist[i][j], dist[i][k] + dist[k][j])\n",
        "\n",
        "    return dist\n",
        "\n",
        "def find_shortest_shortest_path(graph):\n",
        "    num_vertices, _, edges = graph\n",
        "    shortest_path_lengths = floyd_warshall(num_vertices, edges)\n",
        "\n",
        "    # Check for negative cycles\n",
        "    for i in range(num_vertices):\n",
        "        if shortest_path_lengths[i][i] < 0:\n",
        "            return \"NULL\"\n",
        "\n",
        "    # Find the shortest shortest path\n",
        "    min_shortest_path = float('inf')\n",
        "    for i in range(num_vertices):\n",
        "        for j in range(num_vertices):\n",
        "            min_shortest_path = min(min_shortest_path, shortest_path_lengths[i][j])\n",
        "\n",
        "    return min_shortest_path\n",
        "\n",
        "if __name__ == \"__main__\":\n",
        "    file_paths = [\"/g1.txt\", \"/g2.txt\", \"/g3.txt\"]\n",
        "\n",
        "    for file_path in file_paths:\n",
        "        graph = read_graph(file_path)\n",
        "        result = find_shortest_shortest_path(graph)\n",
        "        print(f\"The result for {file_path}: {result}\")\n",
        "\n",
        "\n",
        "\n",
        "\n",
        
      ]
    }
  ]
}
